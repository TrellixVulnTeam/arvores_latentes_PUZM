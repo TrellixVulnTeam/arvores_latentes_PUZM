{
 "cells": [
  {
   "cell_type": "code",
   "execution_count": 0,
   "metadata": {
    "colab": {},
    "colab_type": "code",
    "id": "1HWy0HQtAH-4"
   },
   "outputs": [],
   "source": [
    "import pandas as pd\n",
    "import json"
   ]
  },
  {
   "cell_type": "code",
   "execution_count": 0,
   "metadata": {
    "colab": {},
    "colab_type": "code",
    "id": "BTrX-CtnAM_q"
   },
   "outputs": [],
   "source": [
    "df = pd.read_csv(\"teste_debug.csv\", header=None)"
   ]
  },
  {
   "cell_type": "code",
   "execution_count": 0,
   "metadata": {
    "colab": {},
    "colab_type": "code",
    "id": "egR7F4MoAddK"
   },
   "outputs": [],
   "source": [
    "with open(\"templates_0.txt\", \"r\") as f:\n",
    "  template = f.read()\n",
    "  template = template.replace(\"frozenset(\",\"\").replace(\")\",\"\").replace(\"{\",\"[\").replace(\"}\",\"]\")\n",
    "  template = json.loads(template)"
   ]
  },
  {
   "cell_type": "code",
   "execution_count": 10,
   "metadata": {
    "colab": {
     "base_uri": "https://localhost:8080/",
     "height": 34
    },
    "colab_type": "code",
    "executionInfo": {
     "elapsed": 832,
     "status": "ok",
     "timestamp": 1583352956495,
     "user": {
      "displayName": "Leonardo Oliveira",
      "photoUrl": "",
      "userId": "02805186391476525049"
     },
     "user_tz": 180
    },
    "id": "vLgHxkW_AhWp",
    "outputId": "34aaffd3-d6f0-4799-ca37-c5a2f683a58c"
   },
   "outputs": [
    {
     "data": {
      "text/plain": [
       "(18, 601)"
      ]
     },
     "execution_count": 10,
     "metadata": {
      "tags": []
     },
     "output_type": "execute_result"
    }
   ],
   "source": [
    "t1 = template[0]\n",
    "correferente = df[df.iloc[:,-1] == 1]\n",
    "correferente.shape"
   ]
  },
  {
   "cell_type": "code",
   "execution_count": 0,
   "metadata": {
    "colab": {},
    "colab_type": "code",
    "id": "eGW1Q6bHBdd7"
   },
   "outputs": [],
   "source": [
    "unique_values = correferente[t1].drop_duplicates().reset_index(drop=True)"
   ]
  },
  {
   "cell_type": "code",
   "execution_count": 13,
   "metadata": {
    "colab": {
     "base_uri": "https://localhost:8080/",
     "height": 390
    },
    "colab_type": "code",
    "executionInfo": {
     "elapsed": 738,
     "status": "ok",
     "timestamp": 1583352969876,
     "user": {
      "displayName": "Leonardo Oliveira",
      "photoUrl": "",
      "userId": "02805186391476525049"
     },
     "user_tz": 180
    },
    "id": "3VCSAhFOMPRQ",
    "outputId": "b2e442fe-57eb-4d3d-b072-680d2d8d7d20"
   },
   "outputs": [
    {
     "data": {
      "text/html": [
       "<div>\n",
       "<style scoped>\n",
       "    .dataframe tbody tr th:only-of-type {\n",
       "        vertical-align: middle;\n",
       "    }\n",
       "\n",
       "    .dataframe tbody tr th {\n",
       "        vertical-align: top;\n",
       "    }\n",
       "\n",
       "    .dataframe thead th {\n",
       "        text-align: right;\n",
       "    }\n",
       "</style>\n",
       "<table border=\"1\" class=\"dataframe\">\n",
       "  <thead>\n",
       "    <tr style=\"text-align: right;\">\n",
       "      <th></th>\n",
       "      <th>41</th>\n",
       "      <th>140</th>\n",
       "      <th>20</th>\n",
       "      <th>341</th>\n",
       "      <th>440</th>\n",
       "    </tr>\n",
       "  </thead>\n",
       "  <tbody>\n",
       "    <tr>\n",
       "      <th>0</th>\n",
       "      <td>5</td>\n",
       "      <td>4</td>\n",
       "      <td>3</td>\n",
       "      <td>6</td>\n",
       "      <td>5.0</td>\n",
       "    </tr>\n",
       "    <tr>\n",
       "      <th>1</th>\n",
       "      <td>0</td>\n",
       "      <td>9</td>\n",
       "      <td>9</td>\n",
       "      <td>0</td>\n",
       "      <td>9.0</td>\n",
       "    </tr>\n",
       "    <tr>\n",
       "      <th>2</th>\n",
       "      <td>3</td>\n",
       "      <td>0</td>\n",
       "      <td>9</td>\n",
       "      <td>0</td>\n",
       "      <td>9.0</td>\n",
       "    </tr>\n",
       "    <tr>\n",
       "      <th>3</th>\n",
       "      <td>3</td>\n",
       "      <td>0</td>\n",
       "      <td>9</td>\n",
       "      <td>3</td>\n",
       "      <td>0.0</td>\n",
       "    </tr>\n",
       "    <tr>\n",
       "      <th>4</th>\n",
       "      <td>2</td>\n",
       "      <td>0</td>\n",
       "      <td>7</td>\n",
       "      <td>3</td>\n",
       "      <td>0.0</td>\n",
       "    </tr>\n",
       "    <tr>\n",
       "      <th>5</th>\n",
       "      <td>2</td>\n",
       "      <td>0</td>\n",
       "      <td>7</td>\n",
       "      <td>0</td>\n",
       "      <td>9.0</td>\n",
       "    </tr>\n",
       "    <tr>\n",
       "      <th>6</th>\n",
       "      <td>0</td>\n",
       "      <td>0</td>\n",
       "      <td>9</td>\n",
       "      <td>2</td>\n",
       "      <td>1.0</td>\n",
       "    </tr>\n",
       "    <tr>\n",
       "      <th>7</th>\n",
       "      <td>1</td>\n",
       "      <td>7</td>\n",
       "      <td>8</td>\n",
       "      <td>2</td>\n",
       "      <td>0.0</td>\n",
       "    </tr>\n",
       "    <tr>\n",
       "      <th>8</th>\n",
       "      <td>1</td>\n",
       "      <td>7</td>\n",
       "      <td>8</td>\n",
       "      <td>3</td>\n",
       "      <td>0.0</td>\n",
       "    </tr>\n",
       "    <tr>\n",
       "      <th>9</th>\n",
       "      <td>1</td>\n",
       "      <td>7</td>\n",
       "      <td>8</td>\n",
       "      <td>0</td>\n",
       "      <td>9.0</td>\n",
       "    </tr>\n",
       "    <tr>\n",
       "      <th>10</th>\n",
       "      <td>3</td>\n",
       "      <td>2</td>\n",
       "      <td>8</td>\n",
       "      <td>1</td>\n",
       "      <td>0.0</td>\n",
       "    </tr>\n",
       "  </tbody>\n",
       "</table>\n",
       "</div>"
      ],
      "text/plain": [
       "    41   140  20   341  440\n",
       "0     5    4    3    6  5.0\n",
       "1     0    9    9    0  9.0\n",
       "2     3    0    9    0  9.0\n",
       "3     3    0    9    3  0.0\n",
       "4     2    0    7    3  0.0\n",
       "5     2    0    7    0  9.0\n",
       "6     0    0    9    2  1.0\n",
       "7     1    7    8    2  0.0\n",
       "8     1    7    8    3  0.0\n",
       "9     1    7    8    0  9.0\n",
       "10    3    2    8    1  0.0"
      ]
     },
     "execution_count": 13,
     "metadata": {
      "tags": []
     },
     "output_type": "execute_result"
    }
   ],
   "source": [
    "unique_values"
   ]
  },
  {
   "cell_type": "code",
   "execution_count": 15,
   "metadata": {
    "colab": {
     "base_uri": "https://localhost:8080/",
     "height": 390
    },
    "colab_type": "code",
    "executionInfo": {
     "elapsed": 860,
     "status": "ok",
     "timestamp": 1583353015568,
     "user": {
      "displayName": "Leonardo Oliveira",
      "photoUrl": "",
      "userId": "02805186391476525049"
     },
     "user_tz": 180
    },
    "id": "vikzasZhkMH6",
    "outputId": "aa96d20d-457a-47f6-96d7-1fa005df4a0a"
   },
   "outputs": [
    {
     "data": {
      "text/html": [
       "<div>\n",
       "<style scoped>\n",
       "    .dataframe tbody tr th:only-of-type {\n",
       "        vertical-align: middle;\n",
       "    }\n",
       "\n",
       "    .dataframe tbody tr th {\n",
       "        vertical-align: top;\n",
       "    }\n",
       "\n",
       "    .dataframe thead th {\n",
       "        text-align: right;\n",
       "    }\n",
       "</style>\n",
       "<table border=\"1\" class=\"dataframe\">\n",
       "  <thead>\n",
       "    <tr style=\"text-align: right;\">\n",
       "      <th></th>\n",
       "      <th>41</th>\n",
       "      <th>140</th>\n",
       "      <th>20</th>\n",
       "      <th>341</th>\n",
       "      <th>440</th>\n",
       "    </tr>\n",
       "  </thead>\n",
       "  <tbody>\n",
       "    <tr>\n",
       "      <th>0</th>\n",
       "      <td>415</td>\n",
       "      <td>1404</td>\n",
       "      <td>203</td>\n",
       "      <td>3416</td>\n",
       "      <td>4405</td>\n",
       "    </tr>\n",
       "    <tr>\n",
       "      <th>1</th>\n",
       "      <td>410</td>\n",
       "      <td>1409</td>\n",
       "      <td>209</td>\n",
       "      <td>3410</td>\n",
       "      <td>4409</td>\n",
       "    </tr>\n",
       "    <tr>\n",
       "      <th>2</th>\n",
       "      <td>413</td>\n",
       "      <td>1400</td>\n",
       "      <td>209</td>\n",
       "      <td>3410</td>\n",
       "      <td>4409</td>\n",
       "    </tr>\n",
       "    <tr>\n",
       "      <th>3</th>\n",
       "      <td>413</td>\n",
       "      <td>1400</td>\n",
       "      <td>209</td>\n",
       "      <td>3413</td>\n",
       "      <td>4400</td>\n",
       "    </tr>\n",
       "    <tr>\n",
       "      <th>4</th>\n",
       "      <td>412</td>\n",
       "      <td>1400</td>\n",
       "      <td>207</td>\n",
       "      <td>3413</td>\n",
       "      <td>4400</td>\n",
       "    </tr>\n",
       "    <tr>\n",
       "      <th>5</th>\n",
       "      <td>412</td>\n",
       "      <td>1400</td>\n",
       "      <td>207</td>\n",
       "      <td>3410</td>\n",
       "      <td>4409</td>\n",
       "    </tr>\n",
       "    <tr>\n",
       "      <th>6</th>\n",
       "      <td>410</td>\n",
       "      <td>1400</td>\n",
       "      <td>209</td>\n",
       "      <td>3412</td>\n",
       "      <td>4401</td>\n",
       "    </tr>\n",
       "    <tr>\n",
       "      <th>7</th>\n",
       "      <td>411</td>\n",
       "      <td>1407</td>\n",
       "      <td>208</td>\n",
       "      <td>3412</td>\n",
       "      <td>4400</td>\n",
       "    </tr>\n",
       "    <tr>\n",
       "      <th>8</th>\n",
       "      <td>411</td>\n",
       "      <td>1407</td>\n",
       "      <td>208</td>\n",
       "      <td>3413</td>\n",
       "      <td>4400</td>\n",
       "    </tr>\n",
       "    <tr>\n",
       "      <th>9</th>\n",
       "      <td>411</td>\n",
       "      <td>1407</td>\n",
       "      <td>208</td>\n",
       "      <td>3410</td>\n",
       "      <td>4409</td>\n",
       "    </tr>\n",
       "    <tr>\n",
       "      <th>10</th>\n",
       "      <td>413</td>\n",
       "      <td>1402</td>\n",
       "      <td>208</td>\n",
       "      <td>3411</td>\n",
       "      <td>4400</td>\n",
       "    </tr>\n",
       "  </tbody>\n",
       "</table>\n",
       "</div>"
      ],
      "text/plain": [
       "    41    140  20    341   440\n",
       "0   415  1404  203  3416  4405\n",
       "1   410  1409  209  3410  4409\n",
       "2   413  1400  209  3410  4409\n",
       "3   413  1400  209  3413  4400\n",
       "4   412  1400  207  3413  4400\n",
       "5   412  1400  207  3410  4409\n",
       "6   410  1400  209  3412  4401\n",
       "7   411  1407  208  3412  4400\n",
       "8   411  1407  208  3413  4400\n",
       "9   411  1407  208  3410  4409\n",
       "10  413  1402  208  3411  4400"
      ]
     },
     "execution_count": 15,
     "metadata": {
      "tags": []
     },
     "output_type": "execute_result"
    }
   ],
   "source": [
    "unique_values.apply(lambda row:[int(row.name * 10 + x)  for x in row])"
   ]
  },
  {
   "cell_type": "markdown",
   "metadata": {},
   "source": [
    "# Pickled"
   ]
  },
  {
   "cell_type": "code",
   "execution_count": 1,
   "metadata": {
    "colab": {},
    "colab_type": "code",
    "id": "YAhrhQriMNrk"
   },
   "outputs": [],
   "source": [
    "import pickle"
   ]
  },
  {
   "cell_type": "code",
   "execution_count": 2,
   "metadata": {},
   "outputs": [],
   "source": [
    "with open(r\"D:\\ProjetoFinal\\data\\decision_tree\\features.dat\",\"rb\") as f:\n",
    "    features = pickle.load(f)"
   ]
  },
  {
   "cell_type": "code",
   "execution_count": 4,
   "metadata": {
    "scrolled": true
   },
   "outputs": [
    {
     "name": "stdout",
     "output_type": "stream",
     "text": [
      "0:Int64Index([354, 349, 282, 210], dtype='int64')\n",
      "1:Int64Index([573, 282, 153], dtype='int64')\n",
      "2:Int64Index([349, 282, 210], dtype='int64')\n",
      "3:Int64Index([573, 282], dtype='int64')\n",
      "4:Int64Index([349, 123, 282], dtype='int64')\n",
      "5:Int64Index([349, 282], dtype='int64')\n",
      "6:Int64Index([479, 91, 248, 362, 578], dtype='int64')\n",
      "7:Int64Index([91, 362], dtype='int64')\n",
      "8:Int64Index([479, 91, 248, 362, 323], dtype='int64')\n",
      "9:Int64Index([479, 91, 362, 248], dtype='int64')\n",
      "10:Int64Index([479, 91, 362], dtype='int64')\n",
      "11:Int64Index([572, 452, 154, 97], dtype='int64')\n",
      "12:Int64Index([154, 97], dtype='int64')\n",
      "13:Int64Index([349, 97], dtype='int64')\n",
      "14:Int64Index([452, 154, 97], dtype='int64')\n",
      "15:Int64Index([223, 368], dtype='int64')\n",
      "16:Int64Index([127, 537, 438, 20, 524], dtype='int64')\n",
      "17:Int64Index([438, 524, 20], dtype='int64')\n",
      "18:Int64Index([438, 20], dtype='int64')\n",
      "19:Int64Index([375, 438, 288], dtype='int64')\n",
      "20:Int64Index([537, 86, 438, 20, 524], dtype='int64')\n",
      "21:Int64Index([438, 20, 132], dtype='int64')\n",
      "22:Int64Index([375, 438], dtype='int64')\n",
      "23:Int64Index([375, 438, 144, 333, 288], dtype='int64')\n",
      "24:Int64Index([438, 524, 20, 537], dtype='int64')\n",
      "25:Int64Index([375, 438, 333, 288], dtype='int64')\n",
      "26:Int64Index([438, 20, 410, 132], dtype='int64')\n"
     ]
    }
   ],
   "source": [
    "for idx, df in enumerate(features):\n",
    "    print(f\"{idx}:{df.columns}\")"
   ]
  }
 ],
 "metadata": {
  "colab": {
   "authorship_tag": "ABX9TyN3bxJxF6jQm+cqFa6dcRse",
   "name": "Create Derived Features.ipynb",
   "provenance": []
  },
  "kernelspec": {
   "display_name": "Python 3",
   "language": "python",
   "name": "python3"
  },
  "language_info": {
   "codemirror_mode": {
    "name": "ipython",
    "version": 3
   },
   "file_extension": ".py",
   "mimetype": "text/x-python",
   "name": "python",
   "nbconvert_exporter": "python",
   "pygments_lexer": "ipython3",
   "version": "3.6.9"
  }
 },
 "nbformat": 4,
 "nbformat_minor": 1
}
