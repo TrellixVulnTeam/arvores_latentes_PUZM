{
 "cells": [
  {
   "cell_type": "code",
   "execution_count": 14,
   "metadata": {},
   "outputs": [],
   "source": [
    "import pickle\n",
    "import numpy as np"
   ]
  },
  {
   "cell_type": "code",
   "execution_count": 16,
   "metadata": {},
   "outputs": [],
   "source": [
    "with open(\"D:\\ProjetoFinal\\models\\debug_1_1.model\",\"rb\") as f:\n",
    "    debug11 = pickle.load(f)\n",
    "    \n",
    "with open(\"D:\\ProjetoFinal\\models\\debug_1_2.model\",\"rb\") as f:\n",
    "    debug12 = pickle.load(f)    \n",
    "    \n",
    "with open(\"D:\\ProjetoFinal\\models\\debug_2.model\",\"rb\") as f:\n",
    "    debug2 = pickle.load(f)        "
   ]
  },
  {
   "cell_type": "code",
   "execution_count": 31,
   "metadata": {},
   "outputs": [],
   "source": [
    "a11 = np.array(debug11[1][0]['+'])\n",
    "a12 = np.array(debug12[1][0]['+'])\n",
    "a2 = np.array(debug2[1][0]['+'])"
   ]
  },
  {
   "cell_type": "code",
   "execution_count": 33,
   "metadata": {},
   "outputs": [
    {
     "data": {
      "text/plain": [
       "0.0"
      ]
     },
     "execution_count": 33,
     "metadata": {},
     "output_type": "execute_result"
    }
   ],
   "source": [
    "((a12 - a2)**2).sum()"
   ]
  },
  {
   "cell_type": "code",
   "execution_count": 30,
   "metadata": {},
   "outputs": [
    {
     "data": {
      "text/plain": [
       "-207.0"
      ]
     },
     "execution_count": 30,
     "metadata": {},
     "output_type": "execute_result"
    }
   ],
   "source": [
    "a2.sum()"
   ]
  }
 ],
 "metadata": {
  "kernelspec": {
   "display_name": "Python 3",
   "language": "python",
   "name": "python3"
  },
  "language_info": {
   "codemirror_mode": {
    "name": "ipython",
    "version": 3
   },
   "file_extension": ".py",
   "mimetype": "text/x-python",
   "name": "python",
   "nbconvert_exporter": "python",
   "pygments_lexer": "ipython3",
   "version": "3.6.9"
  }
 },
 "nbformat": 4,
 "nbformat_minor": 4
}
